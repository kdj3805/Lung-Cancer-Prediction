{
  "nbformat": 4,
  "nbformat_minor": 0,
  "metadata": {
    "colab": {
      "provenance": []
    },
    "kernelspec": {
      "name": "python3",
      "display_name": "Python 3"
    },
    "language_info": {
      "name": "python"
    }
  },
  "cells": [
    {
      "cell_type": "code",
      "execution_count": null,
      "metadata": {
        "colab": {
          "base_uri": "https://localhost:8080/",
          "height": 73
        },
        "id": "O_cbT9zw1AKL",
        "outputId": "e92e4284-10ca-4a3e-fce8-1d04fb7fac37"
      },
      "outputs": [
        {
          "output_type": "display_data",
          "data": {
            "text/plain": [
              "<IPython.core.display.HTML object>"
            ],
            "text/html": [
              "\n",
              "     <input type=\"file\" id=\"files-fdb5027d-1f85-4914-a745-db4909438a27\" name=\"files[]\" multiple disabled\n",
              "        style=\"border:none\" />\n",
              "     <output id=\"result-fdb5027d-1f85-4914-a745-db4909438a27\">\n",
              "      Upload widget is only available when the cell has been executed in the\n",
              "      current browser session. Please rerun this cell to enable.\n",
              "      </output>\n",
              "      <script>// Copyright 2017 Google LLC\n",
              "//\n",
              "// Licensed under the Apache License, Version 2.0 (the \"License\");\n",
              "// you may not use this file except in compliance with the License.\n",
              "// You may obtain a copy of the License at\n",
              "//\n",
              "//      http://www.apache.org/licenses/LICENSE-2.0\n",
              "//\n",
              "// Unless required by applicable law or agreed to in writing, software\n",
              "// distributed under the License is distributed on an \"AS IS\" BASIS,\n",
              "// WITHOUT WARRANTIES OR CONDITIONS OF ANY KIND, either express or implied.\n",
              "// See the License for the specific language governing permissions and\n",
              "// limitations under the License.\n",
              "\n",
              "/**\n",
              " * @fileoverview Helpers for google.colab Python module.\n",
              " */\n",
              "(function(scope) {\n",
              "function span(text, styleAttributes = {}) {\n",
              "  const element = document.createElement('span');\n",
              "  element.textContent = text;\n",
              "  for (const key of Object.keys(styleAttributes)) {\n",
              "    element.style[key] = styleAttributes[key];\n",
              "  }\n",
              "  return element;\n",
              "}\n",
              "\n",
              "// Max number of bytes which will be uploaded at a time.\n",
              "const MAX_PAYLOAD_SIZE = 100 * 1024;\n",
              "\n",
              "function _uploadFiles(inputId, outputId) {\n",
              "  const steps = uploadFilesStep(inputId, outputId);\n",
              "  const outputElement = document.getElementById(outputId);\n",
              "  // Cache steps on the outputElement to make it available for the next call\n",
              "  // to uploadFilesContinue from Python.\n",
              "  outputElement.steps = steps;\n",
              "\n",
              "  return _uploadFilesContinue(outputId);\n",
              "}\n",
              "\n",
              "// This is roughly an async generator (not supported in the browser yet),\n",
              "// where there are multiple asynchronous steps and the Python side is going\n",
              "// to poll for completion of each step.\n",
              "// This uses a Promise to block the python side on completion of each step,\n",
              "// then passes the result of the previous step as the input to the next step.\n",
              "function _uploadFilesContinue(outputId) {\n",
              "  const outputElement = document.getElementById(outputId);\n",
              "  const steps = outputElement.steps;\n",
              "\n",
              "  const next = steps.next(outputElement.lastPromiseValue);\n",
              "  return Promise.resolve(next.value.promise).then((value) => {\n",
              "    // Cache the last promise value to make it available to the next\n",
              "    // step of the generator.\n",
              "    outputElement.lastPromiseValue = value;\n",
              "    return next.value.response;\n",
              "  });\n",
              "}\n",
              "\n",
              "/**\n",
              " * Generator function which is called between each async step of the upload\n",
              " * process.\n",
              " * @param {string} inputId Element ID of the input file picker element.\n",
              " * @param {string} outputId Element ID of the output display.\n",
              " * @return {!Iterable<!Object>} Iterable of next steps.\n",
              " */\n",
              "function* uploadFilesStep(inputId, outputId) {\n",
              "  const inputElement = document.getElementById(inputId);\n",
              "  inputElement.disabled = false;\n",
              "\n",
              "  const outputElement = document.getElementById(outputId);\n",
              "  outputElement.innerHTML = '';\n",
              "\n",
              "  const pickedPromise = new Promise((resolve) => {\n",
              "    inputElement.addEventListener('change', (e) => {\n",
              "      resolve(e.target.files);\n",
              "    });\n",
              "  });\n",
              "\n",
              "  const cancel = document.createElement('button');\n",
              "  inputElement.parentElement.appendChild(cancel);\n",
              "  cancel.textContent = 'Cancel upload';\n",
              "  const cancelPromise = new Promise((resolve) => {\n",
              "    cancel.onclick = () => {\n",
              "      resolve(null);\n",
              "    };\n",
              "  });\n",
              "\n",
              "  // Wait for the user to pick the files.\n",
              "  const files = yield {\n",
              "    promise: Promise.race([pickedPromise, cancelPromise]),\n",
              "    response: {\n",
              "      action: 'starting',\n",
              "    }\n",
              "  };\n",
              "\n",
              "  cancel.remove();\n",
              "\n",
              "  // Disable the input element since further picks are not allowed.\n",
              "  inputElement.disabled = true;\n",
              "\n",
              "  if (!files) {\n",
              "    return {\n",
              "      response: {\n",
              "        action: 'complete',\n",
              "      }\n",
              "    };\n",
              "  }\n",
              "\n",
              "  for (const file of files) {\n",
              "    const li = document.createElement('li');\n",
              "    li.append(span(file.name, {fontWeight: 'bold'}));\n",
              "    li.append(span(\n",
              "        `(${file.type || 'n/a'}) - ${file.size} bytes, ` +\n",
              "        `last modified: ${\n",
              "            file.lastModifiedDate ? file.lastModifiedDate.toLocaleDateString() :\n",
              "                                    'n/a'} - `));\n",
              "    const percent = span('0% done');\n",
              "    li.appendChild(percent);\n",
              "\n",
              "    outputElement.appendChild(li);\n",
              "\n",
              "    const fileDataPromise = new Promise((resolve) => {\n",
              "      const reader = new FileReader();\n",
              "      reader.onload = (e) => {\n",
              "        resolve(e.target.result);\n",
              "      };\n",
              "      reader.readAsArrayBuffer(file);\n",
              "    });\n",
              "    // Wait for the data to be ready.\n",
              "    let fileData = yield {\n",
              "      promise: fileDataPromise,\n",
              "      response: {\n",
              "        action: 'continue',\n",
              "      }\n",
              "    };\n",
              "\n",
              "    // Use a chunked sending to avoid message size limits. See b/62115660.\n",
              "    let position = 0;\n",
              "    do {\n",
              "      const length = Math.min(fileData.byteLength - position, MAX_PAYLOAD_SIZE);\n",
              "      const chunk = new Uint8Array(fileData, position, length);\n",
              "      position += length;\n",
              "\n",
              "      const base64 = btoa(String.fromCharCode.apply(null, chunk));\n",
              "      yield {\n",
              "        response: {\n",
              "          action: 'append',\n",
              "          file: file.name,\n",
              "          data: base64,\n",
              "        },\n",
              "      };\n",
              "\n",
              "      let percentDone = fileData.byteLength === 0 ?\n",
              "          100 :\n",
              "          Math.round((position / fileData.byteLength) * 100);\n",
              "      percent.textContent = `${percentDone}% done`;\n",
              "\n",
              "    } while (position < fileData.byteLength);\n",
              "  }\n",
              "\n",
              "  // All done.\n",
              "  yield {\n",
              "    response: {\n",
              "      action: 'complete',\n",
              "    }\n",
              "  };\n",
              "}\n",
              "\n",
              "scope.google = scope.google || {};\n",
              "scope.google.colab = scope.google.colab || {};\n",
              "scope.google.colab._files = {\n",
              "  _uploadFiles,\n",
              "  _uploadFilesContinue,\n",
              "};\n",
              "})(self);\n",
              "</script> "
            ]
          },
          "metadata": {}
        },
        {
          "output_type": "stream",
          "name": "stdout",
          "text": [
            "Saving cancer patient data sets.csv to cancer patient data sets.csv\n"
          ]
        }
      ],
      "source": [
        "from google.colab import files\n",
        "uploaded = files.upload()\n"
      ]
    },
    {
      "cell_type": "code",
      "source": [
        "import pandas as pd\n",
        "from sklearn.preprocessing import LabelEncoder\n",
        "\n",
        "df = pd.read_csv(\"cancer patient data sets.csv\")\n",
        "\n",
        "# Drop unnecessary columns\n",
        "df.drop(['index', 'Patient Id'], axis=1, errors='ignore', inplace=True)\n",
        "\n",
        "# Encode categorical variables\n",
        "le = LabelEncoder()\n",
        "for col in df.select_dtypes(include='object').columns:\n",
        "    df[col] = le.fit_transform(df[col])\n"
      ],
      "metadata": {
        "id": "RHagavwJ210X"
      },
      "execution_count": null,
      "outputs": []
    },
    {
      "cell_type": "code",
      "source": [
        "import pandas as pd\n",
        "\n",
        "# Load the dataset\n",
        "df = pd.read_csv('cancer patient data sets.csv')\n",
        "df.columns"
      ],
      "metadata": {
        "colab": {
          "base_uri": "https://localhost:8080/"
        },
        "id": "_GJNcyNR3goE",
        "outputId": "7083dbc2-dcf9-4881-8c27-0d6104bbd318"
      },
      "execution_count": null,
      "outputs": [
        {
          "output_type": "execute_result",
          "data": {
            "text/plain": [
              "Index(['Age', 'Gender', 'Air Pollution', 'Alcohol use', 'Dust Allergy',\n",
              "       'OccuPational Hazards', 'Genetic Risk', 'chronic Lung Disease',\n",
              "       'Balanced Diet', 'Obesity', 'Smoking', 'Passive Smoker', 'Chest Pain',\n",
              "       'Coughing of Blood', 'Fatigue', 'Weight Loss', 'Shortness of Breath',\n",
              "       'Wheezing', 'Swallowing Difficulty', 'Clubbing of Finger Nails',\n",
              "       'Frequent Cold', 'Dry Cough', 'Snoring', 'Level'],\n",
              "      dtype='object')"
            ]
          },
          "metadata": {},
          "execution_count": 28
        }
      ]
    },
    {
      "cell_type": "code",
      "source": [
        "y.value_counts()\n"
      ],
      "metadata": {
        "colab": {
          "base_uri": "https://localhost:8080/",
          "height": 209
        },
        "id": "zf62esUeQ4SJ",
        "outputId": "6a67f2f9-7b46-4fc8-f46e-0d94ee7354ec"
      },
      "execution_count": null,
      "outputs": [
        {
          "output_type": "execute_result",
          "data": {
            "text/plain": [
              "Level\n",
              "0    365\n",
              "2    332\n",
              "1    303\n",
              "Name: count, dtype: int64"
            ],
            "text/html": [
              "<div>\n",
              "<style scoped>\n",
              "    .dataframe tbody tr th:only-of-type {\n",
              "        vertical-align: middle;\n",
              "    }\n",
              "\n",
              "    .dataframe tbody tr th {\n",
              "        vertical-align: top;\n",
              "    }\n",
              "\n",
              "    .dataframe thead th {\n",
              "        text-align: right;\n",
              "    }\n",
              "</style>\n",
              "<table border=\"1\" class=\"dataframe\">\n",
              "  <thead>\n",
              "    <tr style=\"text-align: right;\">\n",
              "      <th></th>\n",
              "      <th>count</th>\n",
              "    </tr>\n",
              "    <tr>\n",
              "      <th>Level</th>\n",
              "      <th></th>\n",
              "    </tr>\n",
              "  </thead>\n",
              "  <tbody>\n",
              "    <tr>\n",
              "      <th>0</th>\n",
              "      <td>365</td>\n",
              "    </tr>\n",
              "    <tr>\n",
              "      <th>2</th>\n",
              "      <td>332</td>\n",
              "    </tr>\n",
              "    <tr>\n",
              "      <th>1</th>\n",
              "      <td>303</td>\n",
              "    </tr>\n",
              "  </tbody>\n",
              "</table>\n",
              "</div><br><label><b>dtype:</b> int64</label>"
            ]
          },
          "metadata": {},
          "execution_count": 29
        }
      ]
    },
    {
      "cell_type": "code",
      "source": [
        "import pandas as pd\n",
        "from sklearn.preprocessing import LabelEncoder\n",
        "\n",
        "# Load your dataset\n",
        "df = pd.read_csv(\"cancer patient data sets.csv\")\n",
        "\n",
        "# Drop unnecessary columns\n",
        "df.drop(['index', 'Patient Id'], axis=1, errors='ignore', inplace=True)\n",
        "\n",
        "X = df.drop('Level', axis=1)\n",
        "y = df['Level']\n",
        "\n",
        "\n",
        "le = LabelEncoder()\n",
        "y_encoded = le.fit_transform(y)  # e.g., Low=0, Medium=1, High=2\n",
        "\n",
        "\n",
        "# Label encode categorical columns\n",
        "le = LabelEncoder()\n",
        "for col in df.select_dtypes(include='object').columns:\n",
        "    df[col] = le.fit_transform(df[col])\n",
        "\n",
        "# Define selected features\n",
        "selected_features = ['Smoking', 'Genetic Risk', 'Air Pollution', 'chronic Lung Disease', 'Coughing of Blood', 'Shortness of Breath']\n",
        "\n",
        "# Features (X) and Target (y)\n",
        "X = df[selected_features]\n",
        "y = df['Level']\n",
        "\n"
      ],
      "metadata": {
        "id": "tCn8YuVH3l8u"
      },
      "execution_count": null,
      "outputs": []
    },
    {
      "cell_type": "code",
      "source": [
        "# import pandas as pd\n",
        "# from sklearn.preprocessing import LabelEncoder\n",
        "# from sklearn.model_selection import train_test_split\n",
        "# from sklearn.preprocessing import StandardScaler\n",
        "# from sklearn.neighbors import KNeighborsClassifier\n",
        "\n",
        "# # Load the dataset\n",
        "# df = pd.read_csv(\"cancer patient data sets.csv\")\n",
        "\n",
        "# # Drop unnecessary columns\n",
        "# df.drop(['index', 'Patient Id'], axis=1, errors='ignore', inplace=True)\n",
        "\n",
        "# # Define selected features and target\n",
        "# selected_features = ['Smoking', 'Genetic Risk', 'Air Pollution', 'chronic Lung Disease',\n",
        "#                      'Coughing of Blood', 'Shortness of Breath']\n",
        "# target_col = 'Level'\n",
        "\n",
        "# # Encode selected feature columns\n",
        "# df_encoded = df.copy()\n",
        "# for col in selected_features:\n",
        "#     df_encoded[col] = LabelEncoder().fit_transform(df_encoded[col])\n",
        "\n",
        "# # Encode target column separately and store the encoder\n",
        "# target_encoder = LabelEncoder()\n",
        "# df_encoded[target_col] = target_encoder.fit_transform(df_encoded[target_col])\n",
        "\n",
        "# # Print mapping of risk levels\n",
        "# print(\"Class mapping:\", dict(zip(target_encoder.classes_, target_encoder.transform(target_encoder.classes_))))\n",
        "\n",
        "# # Prepare features and target\n",
        "# X = df_encoded[selected_features]\n",
        "# y = df_encoded[target_col]\n",
        "\n",
        "# # Train-test split\n",
        "# X_train, X_test, y_train, y_test = train_test_split(X, y, test_size=0.2, random_state=42)\n",
        "\n",
        "# # Feature scaling\n",
        "# scaler = StandardScaler()\n",
        "# X_train_scaled = scaler.fit_transform(X_train)\n",
        "# X_test_scaled = scaler.transform(X_test)\n",
        "\n",
        "# # Train the KNN model\n",
        "# knn = KNeighborsClassifier(n_neighbors=5)\n",
        "# knn.fit(X_train_scaled, y_train)\n"
      ],
      "metadata": {
        "id": "3xDIYkTcAdn4"
      },
      "execution_count": null,
      "outputs": []
    },
    {
      "cell_type": "code",
      "source": [
        "import pandas as pd\n",
        "from sklearn.preprocessing import LabelEncoder, StandardScaler\n",
        "from sklearn.model_selection import train_test_split\n",
        "from sklearn.neighbors import KNeighborsClassifier\n",
        "\n",
        "# Load dataset\n",
        "df = pd.read_csv(\"cancer patient data sets.csv\")\n",
        "\n",
        "# Drop unnecessary columns\n",
        "df.drop(['index', 'Patient Id'], axis=1, errors='ignore', inplace=True)\n",
        "\n",
        "# Define selected features and target\n",
        "selected_features = ['Smoking', 'Genetic Risk', 'Air Pollution', 'chronic Lung Disease',\n",
        "                     'Coughing of Blood', 'Shortness of Breath']\n",
        "target_col = 'Level'\n",
        "\n",
        "# Copy and encode\n",
        "df_encoded = df.copy()\n",
        "\n",
        "# Encode feature columns\n",
        "feature_encoders = {}\n",
        "for col in selected_features:\n",
        "    le = LabelEncoder()\n",
        "    df_encoded[col] = le.fit_transform(df_encoded[col])\n",
        "    feature_encoders[col] = le\n",
        "\n",
        "# Encode target\n",
        "target_encoder = LabelEncoder()\n",
        "df_encoded[target_col] = target_encoder.fit_transform(df_encoded[target_col])\n",
        "\n",
        "# Print mapping\n",
        "print(\"Class mapping:\", dict(zip(target_encoder.classes_, target_encoder.transform(target_encoder.classes_))))\n",
        "\n",
        "# Prepare features and target\n",
        "X = df_encoded[selected_features]\n",
        "y = df_encoded[target_col]\n",
        "\n",
        "# Split\n",
        "X_train, X_test, y_train, y_test = train_test_split(X, y, test_size=0.2, random_state=42)\n",
        "\n",
        "# Scale\n",
        "scaler = StandardScaler()\n",
        "X_train_scaled = scaler.fit_transform(X_train)\n",
        "X_test_scaled = scaler.transform(X_test)\n",
        "\n",
        "# Train model\n",
        "knn = KNeighborsClassifier(n_neighbors=5)\n",
        "knn.fit(X_train_scaled, y_train)\n",
        "\n",
        "# ✅ Predict function\n",
        "def predict_risk(input_data):\n",
        "    \"\"\"\n",
        "    input_data: list of 6 numeric values corresponding to selected_features\n",
        "    Returns: predicted label and probability dict\n",
        "    \"\"\"\n",
        "    input_df = pd.DataFrame([input_data], columns=selected_features)\n",
        "    input_scaled = scaler.transform(input_df)\n",
        "\n",
        "    pred = knn.predict(input_scaled)\n",
        "    proba = knn.predict_proba(input_scaled)[0]\n",
        "\n",
        "    risk = target_encoder.inverse_transform(pred)[0]\n",
        "\n",
        "    class_labels = target_encoder.inverse_transform(knn.classes_)\n",
        "    proba_dict = {label: round(p * 100, 1) for label, p in zip(class_labels, proba)}\n",
        "\n",
        "    return risk, proba_dict\n",
        "\n",
        "# ✅ Test example\n",
        "sample_input = [3.93, 3.58, 4.25, 3.52, 3.45, 3.03]\n",
        "label, probas = predict_risk(sample_input)\n",
        "print(\"Prediction:\", label)\n",
        "print(\"Probabilities:\", probas)\n"
      ],
      "metadata": {
        "colab": {
          "base_uri": "https://localhost:8080/"
        },
        "id": "FzweBvZbGrGz",
        "outputId": "9c762670-71fd-473f-f772-15b609bc62c1"
      },
      "execution_count": null,
      "outputs": [
        {
          "output_type": "stream",
          "name": "stdout",
          "text": [
            "Class mapping: {'High': np.int64(0), 'Low': np.int64(1), 'Medium': np.int64(2)}\n",
            "Prediction: Medium\n",
            "Probabilities: {'High': np.float64(0.0), 'Low': np.float64(0.0), 'Medium': np.float64(100.0)}\n"
          ]
        }
      ]
    },
    {
      "cell_type": "code",
      "source": [
        "import pandas as pd\n",
        "from sklearn.preprocessing import LabelEncoder, StandardScaler\n",
        "from sklearn.model_selection import train_test_split\n",
        "from sklearn.neighbors import KNeighborsClassifier\n",
        "\n",
        "# Load dataset\n",
        "df = pd.read_csv(\"cancer patient data sets.csv\")\n",
        "\n",
        "# Drop unnecessary columns\n",
        "df.drop(['index', 'Patient Id'], axis=1, errors='ignore', inplace=True)\n",
        "\n",
        "# Define selected features and target\n",
        "selected_features = ['Smoking', 'Genetic Risk', 'Air Pollution', 'chronic Lung Disease',\n",
        "                     'Coughing of Blood', 'Shortness of Breath']\n",
        "target_col = 'Level'\n",
        "\n",
        "# Copy and encode selected features\n",
        "df_encoded = df.copy()\n",
        "feature_encoders = {}\n",
        "for col in selected_features:\n",
        "    le = LabelEncoder()\n",
        "    df_encoded[col] = le.fit_transform(df_encoded[col])\n",
        "    feature_encoders[col] = le  # store if needed\n",
        "\n",
        "# Encode target column\n",
        "target_encoder = LabelEncoder()\n",
        "df_encoded[target_col] = target_encoder.fit_transform(df_encoded[target_col])\n",
        "\n",
        "# Print class mapping for reference\n",
        "print(\"Class mapping:\", dict(zip(target_encoder.classes_, target_encoder.transform(target_encoder.classes_))))\n",
        "\n",
        "# Split data\n",
        "X = df_encoded[selected_features]\n",
        "y = df_encoded[target_col]\n",
        "X_train, X_test, y_train, y_test = train_test_split(X, y, test_size=0.2, random_state=42)\n",
        "\n",
        "# Scale features\n",
        "scaler = StandardScaler()\n",
        "X_train_scaled = scaler.fit_transform(X_train)\n",
        "X_test_scaled = scaler.transform(X_test)\n",
        "\n",
        "# Train model\n",
        "knn = KNeighborsClassifier(n_neighbors=5)\n",
        "knn.fit(X_train_scaled, y_train)\n",
        "\n",
        "# Prediction function (only label)\n",
        "def predict_risk(input_data):\n",
        "    input_scaled = scaler.transform([input_data])\n",
        "    pred = knn.predict(input_scaled)\n",
        "    risk = target_encoder.inverse_transform(pred)[0]\n",
        "    return risk\n",
        "\n",
        "# Test sample input\n",
        "sample_input = [3.93, 3.58, 4.25, 3.52, 3.45, 3.03]\n",
        "label = predict_risk(sample_input)\n",
        "print(\"Predicted Risk Level:\", label)\n"
      ],
      "metadata": {
        "colab": {
          "base_uri": "https://localhost:8080/"
        },
        "id": "aDNAxAoNd9hR",
        "outputId": "d77437c8-ab24-419d-c8be-56c0e3892adb"
      },
      "execution_count": null,
      "outputs": [
        {
          "output_type": "stream",
          "name": "stdout",
          "text": [
            "Class mapping: {'High': np.int64(0), 'Low': np.int64(1), 'Medium': np.int64(2)}\n",
            "Predicted Risk Level: Medium\n"
          ]
        },
        {
          "output_type": "stream",
          "name": "stderr",
          "text": [
            "/usr/local/lib/python3.11/dist-packages/sklearn/utils/validation.py:2739: UserWarning: X does not have valid feature names, but StandardScaler was fitted with feature names\n",
            "  warnings.warn(\n"
          ]
        }
      ]
    },
    {
      "cell_type": "code",
      "source": [
        "from sklearn.metrics import confusion_matrix, classification_report, accuracy_score, precision_score, recall_score, f1_score\n",
        "\n",
        "# Predict on test data\n",
        "y_pred = knn.predict(X_test_scaled)\n",
        "\n",
        "# Confusion Matrix\n",
        "cm = confusion_matrix(y_test, y_pred)\n",
        "print(\"🔹 Confusion Matrix:\\n\", cm)\n",
        "\n",
        "# Accuracy\n",
        "acc = accuracy_score(y_test, y_pred)\n",
        "print(\"✅ Accuracy:\", round(acc * 100, 2), \"%\")\n",
        "\n",
        "# Precision, Recall, F1-score (macro avg for multiclass)\n",
        "precision = precision_score(y_test, y_pred, average='macro')\n",
        "recall = recall_score(y_test, y_pred, average='macro')\n",
        "f1 = f1_score(y_test, y_pred, average='macro')\n",
        "\n",
        "print(\"🔸 Precision:\", round(precision, 2))\n",
        "print(\"🔸 Recall:\", round(recall, 2))\n",
        "print(\"🔸 F1 Score:\", round(f1, 2))\n",
        "\n",
        "# Classification Report (gives precision, recall, f1 per class)\n",
        "print(\"\\n📊 Classification Report:\")\n",
        "print(classification_report(y_test, y_pred, target_names=target_encoder.classes_))\n"
      ],
      "metadata": {
        "colab": {
          "base_uri": "https://localhost:8080/"
        },
        "id": "t32InqQ7Pigl",
        "outputId": "42a19680-10ed-450a-d74f-afdc7c115bc0"
      },
      "execution_count": null,
      "outputs": [
        {
          "output_type": "stream",
          "name": "stdout",
          "text": [
            "🔹 Confusion Matrix:\n",
            " [[82  0  0]\n",
            " [ 0 55  0]\n",
            " [ 0  0 63]]\n",
            "✅ Accuracy: 100.0 %\n",
            "🔸 Precision: 1.0\n",
            "🔸 Recall: 1.0\n",
            "🔸 F1 Score: 1.0\n",
            "\n",
            "📊 Classification Report:\n",
            "              precision    recall  f1-score   support\n",
            "\n",
            "        High       1.00      1.00      1.00        82\n",
            "         Low       1.00      1.00      1.00        55\n",
            "      Medium       1.00      1.00      1.00        63\n",
            "\n",
            "    accuracy                           1.00       200\n",
            "   macro avg       1.00      1.00      1.00       200\n",
            "weighted avg       1.00      1.00      1.00       200\n",
            "\n"
          ]
        }
      ]
    },
    {
      "cell_type": "code",
      "source": [
        "!pip install matplotlib seaborn\n",
        "\n"
      ],
      "metadata": {
        "colab": {
          "base_uri": "https://localhost:8080/"
        },
        "id": "hW12YHEaQHNJ",
        "outputId": "73500b37-feac-4c64-8a56-942f2012a635"
      },
      "execution_count": null,
      "outputs": [
        {
          "output_type": "stream",
          "name": "stdout",
          "text": [
            "Requirement already satisfied: matplotlib in /usr/local/lib/python3.11/dist-packages (3.10.0)\n",
            "Requirement already satisfied: seaborn in /usr/local/lib/python3.11/dist-packages (0.13.2)\n",
            "Requirement already satisfied: contourpy>=1.0.1 in /usr/local/lib/python3.11/dist-packages (from matplotlib) (1.3.1)\n",
            "Requirement already satisfied: cycler>=0.10 in /usr/local/lib/python3.11/dist-packages (from matplotlib) (0.12.1)\n",
            "Requirement already satisfied: fonttools>=4.22.0 in /usr/local/lib/python3.11/dist-packages (from matplotlib) (4.57.0)\n",
            "Requirement already satisfied: kiwisolver>=1.3.1 in /usr/local/lib/python3.11/dist-packages (from matplotlib) (1.4.8)\n",
            "Requirement already satisfied: numpy>=1.23 in /usr/local/lib/python3.11/dist-packages (from matplotlib) (2.0.2)\n",
            "Requirement already satisfied: packaging>=20.0 in /usr/local/lib/python3.11/dist-packages (from matplotlib) (24.2)\n",
            "Requirement already satisfied: pillow>=8 in /usr/local/lib/python3.11/dist-packages (from matplotlib) (11.1.0)\n",
            "Requirement already satisfied: pyparsing>=2.3.1 in /usr/local/lib/python3.11/dist-packages (from matplotlib) (3.2.3)\n",
            "Requirement already satisfied: python-dateutil>=2.7 in /usr/local/lib/python3.11/dist-packages (from matplotlib) (2.8.2)\n",
            "Requirement already satisfied: pandas>=1.2 in /usr/local/lib/python3.11/dist-packages (from seaborn) (2.2.2)\n",
            "Requirement already satisfied: pytz>=2020.1 in /usr/local/lib/python3.11/dist-packages (from pandas>=1.2->seaborn) (2025.2)\n",
            "Requirement already satisfied: tzdata>=2022.7 in /usr/local/lib/python3.11/dist-packages (from pandas>=1.2->seaborn) (2025.2)\n",
            "Requirement already satisfied: six>=1.5 in /usr/local/lib/python3.11/dist-packages (from python-dateutil>=2.7->matplotlib) (1.17.0)\n"
          ]
        }
      ]
    },
    {
      "cell_type": "code",
      "source": [],
      "metadata": {
        "id": "TUdqpxMid7in"
      },
      "execution_count": null,
      "outputs": []
    },
    {
      "cell_type": "code",
      "source": [
        "import matplotlib.pyplot as plt\n",
        "import seaborn as sns\n",
        "from sklearn.metrics import confusion_matrix, classification_report, accuracy_score, precision_score, recall_score, f1_score\n",
        "from sklearn.metrics import ConfusionMatrixDisplay\n",
        "\n",
        "\n",
        "# Predict on test data\n",
        "y_pred = knn.predict(X_test_scaled)\n",
        "\n",
        "# 1. Confusion Matrix\n",
        "cm = confusion_matrix(y_test, y_pred)\n",
        "labels = target_encoder.classes_\n",
        "\n",
        "plt.figure(figsize=(6, 5))\n",
        "sns.heatmap(cm, annot=True, fmt='d', cmap='Blues', xticklabels=labels, yticklabels=labels)\n",
        "plt.title(\"Confusion Matrix\")\n",
        "plt.xlabel(\"Predicted\")\n",
        "plt.ylabel(\"Actual\")\n",
        "plt.show()\n",
        "\n",
        "# 2. Classification Report (Bar Plot)\n",
        "report = classification_report(y_test, y_pred, target_names=labels, output_dict=True)\n",
        "df_report = pd.DataFrame(report).transpose().iloc[:-3, :]  # Remove avg rows\n",
        "\n",
        "df_report[['precision', 'recall', 'f1-score']].plot(kind='bar', figsize=(8, 6))\n",
        "plt.title(\"Precision, Recall & F1-Score per Class\")\n",
        "plt.ylim(0, 1.1)\n",
        "plt.ylabel(\"Score\")\n",
        "plt.xticks(rotation=0)\n",
        "plt.grid(True, linestyle='--', alpha=0.6)\n",
        "plt.legend(loc='lower right')\n",
        "plt.show()\n",
        "\n",
        "# 3. Accuracy Pie Chart (Optional)\n",
        "accuracy = accuracy_score(y_test, y_pred)\n",
        "plt.figure(figsize=(4, 4))\n",
        "plt.pie([accuracy, 1 - accuracy], labels=['Correct', 'Incorrect'], autopct='%1.1f%%', colors=['green', 'red'])\n",
        "plt.title(\"Model Accuracy\")\n",
        "plt.show()\n"
      ],
      "metadata": {
        "colab": {
          "base_uri": "https://localhost:8080/",
          "height": 1000
        },
        "id": "WJQ1zCfmCjEG",
        "outputId": "28362581-8d36-44a3-9330-cb68768050a9"
      },
      "execution_count": null,
      "outputs": [
        {
          "output_type": "display_data",
          "data": {
            "text/plain": [
              "<Figure size 600x500 with 2 Axes>"
            ],
            "image/png": "[encoded data removed]"
          },
          "metadata": {}
        },
        {
          "output_type": "display_data",
          "data": {
            "text/plain": [
              "<Figure size 800x600 with 1 Axes>"
            ],
            "image/png": "[encoded data removed]"
          },
          "metadata": {}
        },
        {
          "output_type": "display_data",
          "data": {
            "text/plain": [
              "<Figure size 400x400 with 1 Axes>"
            ],
            "image/png": "[encoded data removed]"
          },
          "metadata": {}
        }
      ]
    },
    {
      "cell_type": "code",
      "source": [
        "# # Sample input (1 to 10 scale — should be similar to scaled training data)\n",
        "# test_input = [[10, 10, 10, 10, 10, 10]]  # Highest values = highest risk\n",
        "\n",
        "# # Scale test input\n",
        "# test_input_scaled = scaler.transform(test_input)\n",
        "\n",
        "# # Predict risk\n",
        "# pred = knn.predict(test_input_scaled)\n",
        "# proba = knn.predict_proba(test_input_scaled)[0]\n",
        "\n",
        "# # Print results\n",
        "# print(\"Probabilities:\", proba)\n",
        "# print(\"Predicted Risk:\", target_encoder.inverse_transform(pred)[0])\n"
      ],
      "metadata": {
        "colab": {
          "base_uri": "https://localhost:8080/"
        },
        "id": "c_sO9j6BA7qK",
        "outputId": "2ff7a937-c679-4bad-d902-4676ee6c2303"
      },
      "execution_count": null,
      "outputs": [
        {
          "output_type": "stream",
          "name": "stdout",
          "text": [
            "Probabilities: [1. 0. 0.]\n",
            "Predicted Risk: High\n"
          ]
        },
        {
          "output_type": "stream",
          "name": "stderr",
          "text": [
            "/usr/local/lib/python3.11/dist-packages/sklearn/utils/validation.py:2739: UserWarning: X does not have valid feature names, but StandardScaler was fitted with feature names\n",
            "  warnings.warn(\n"
          ]
        }
      ]
    },
    {
      "cell_type": "code",
      "source": [
        "!pip install gradio"
      ],
      "metadata": {
        "colab": {
          "base_uri": "https://localhost:8080/"
        },
        "id": "vypOBabEXEQ9",
        "outputId": "d7ac7a28-2251-4c9f-9eac-4407add9f553"
      },
      "execution_count": null,
      "outputs": [
        {
          "output_type": "stream",
          "name": "stdout",
          "text": [
            "Requirement already satisfied: gradio in /usr/local/lib/python3.11/dist-packages (5.25.0)\n",
            "Requirement already satisfied: aiofiles<25.0,>=22.0 in /usr/local/lib/python3.11/dist-packages (from gradio) (24.1.0)\n",
            "Requirement already satisfied: anyio<5.0,>=3.0 in /usr/local/lib/python3.11/dist-packages (from gradio) (4.9.0)\n",
            "Requirement already satisfied: fastapi<1.0,>=0.115.2 in /usr/local/lib/python3.11/dist-packages (from gradio) (0.115.12)\n",
            "Requirement already satisfied: ffmpy in /usr/local/lib/python3.11/dist-packages (from gradio) (0.5.0)\n",
            "Requirement already satisfied: gradio-client==1.8.0 in /usr/local/lib/python3.11/dist-packages (from gradio) (1.8.0)\n",
            "Requirement already satisfied: groovy~=0.1 in /usr/local/lib/python3.11/dist-packages (from gradio) (0.1.2)\n",
            "Requirement already satisfied: httpx>=0.24.1 in /usr/local/lib/python3.11/dist-packages (from gradio) (0.28.1)\n",
            "Requirement already satisfied: huggingface-hub>=0.28.1 in /usr/local/lib/python3.11/dist-packages (from gradio) (0.30.1)\n",
            "Requirement already satisfied: jinja2<4.0 in /usr/local/lib/python3.11/dist-packages (from gradio) (3.1.6)\n",
            "Requirement already satisfied: markupsafe<4.0,>=2.0 in /usr/local/lib/python3.11/dist-packages (from gradio) (3.0.2)\n",
            "Requirement already satisfied: numpy<3.0,>=1.0 in /usr/local/lib/python3.11/dist-packages (from gradio) (2.0.2)\n",
            "Requirement already satisfied: orjson~=3.0 in /usr/local/lib/python3.11/dist-packages (from gradio) (3.10.16)\n",
            "Requirement already satisfied: packaging in /usr/local/lib/python3.11/dist-packages (from gradio) (24.2)\n",
            "Requirement already satisfied: pandas<3.0,>=1.0 in /usr/local/lib/python3.11/dist-packages (from gradio) (2.2.2)\n",
            "Requirement already satisfied: pillow<12.0,>=8.0 in /usr/local/lib/python3.11/dist-packages (from gradio) (11.1.0)\n",
            "Requirement already satisfied: pydantic<2.12,>=2.0 in /usr/local/lib/python3.11/dist-packages (from gradio) (2.11.2)\n",
            "Requirement already satisfied: pydub in /usr/local/lib/python3.11/dist-packages (from gradio) (0.25.1)\n",
            "Requirement already satisfied: python-multipart>=0.0.18 in /usr/local/lib/python3.11/dist-packages (from gradio) (0.0.20)\n",
            "Requirement already satisfied: pyyaml<7.0,>=5.0 in /usr/local/lib/python3.11/dist-packages (from gradio) (6.0.2)\n",
            "Requirement already satisfied: ruff>=0.9.3 in /usr/local/lib/python3.11/dist-packages (from gradio) (0.11.5)\n",
            "Requirement already satisfied: safehttpx<0.2.0,>=0.1.6 in /usr/local/lib/python3.11/dist-packages (from gradio) (0.1.6)\n",
            "Requirement already satisfied: semantic-version~=2.0 in /usr/local/lib/python3.11/dist-packages (from gradio) (2.10.0)\n",
            "Requirement already satisfied: starlette<1.0,>=0.40.0 in /usr/local/lib/python3.11/dist-packages (from gradio) (0.46.2)\n",
            "Requirement already satisfied: tomlkit<0.14.0,>=0.12.0 in /usr/local/lib/python3.11/dist-packages (from gradio) (0.13.2)\n",
            "Requirement already satisfied: typer<1.0,>=0.12 in /usr/local/lib/python3.11/dist-packages (from gradio) (0.15.2)\n",
            "Requirement already satisfied: typing-extensions~=4.0 in /usr/local/lib/python3.11/dist-packages (from gradio) (4.13.1)\n",
            "Requirement already satisfied: uvicorn>=0.14.0 in /usr/local/lib/python3.11/dist-packages (from gradio) (0.34.1)\n",
            "Requirement already satisfied: fsspec in /usr/local/lib/python3.11/dist-packages (from gradio-client==1.8.0->gradio) (2025.3.2)\n",
            "Requirement already satisfied: websockets<16.0,>=10.0 in /usr/local/lib/python3.11/dist-packages (from gradio-client==1.8.0->gradio) (15.0.1)\n",
            "Requirement already satisfied: idna>=2.8 in /usr/local/lib/python3.11/dist-packages (from anyio<5.0,>=3.0->gradio) (3.10)\n",
            "Requirement already satisfied: sniffio>=1.1 in /usr/local/lib/python3.11/dist-packages (from anyio<5.0,>=3.0->gradio) (1.3.1)\n",
            "Requirement already satisfied: certifi in /usr/local/lib/python3.11/dist-packages (from httpx>=0.24.1->gradio) (2025.1.31)\n",
            "Requirement already satisfied: httpcore==1.* in /usr/local/lib/python3.11/dist-packages (from httpx>=0.24.1->gradio) (1.0.7)\n",
            "Requirement already satisfied: h11<0.15,>=0.13 in /usr/local/lib/python3.11/dist-packages (from httpcore==1.*->httpx>=0.24.1->gradio) (0.14.0)\n",
            "Requirement already satisfied: filelock in /usr/local/lib/python3.11/dist-packages (from huggingface-hub>=0.28.1->gradio) (3.18.0)\n",
            "Requirement already satisfied: requests in /usr/local/lib/python3.11/dist-packages (from huggingface-hub>=0.28.1->gradio) (2.32.3)\n",
            "Requirement already satisfied: tqdm>=4.42.1 in /usr/local/lib/python3.11/dist-packages (from huggingface-hub>=0.28.1->gradio) (4.67.1)\n",
            "Requirement already satisfied: python-dateutil>=2.8.2 in /usr/local/lib/python3.11/dist-packages (from pandas<3.0,>=1.0->gradio) (2.8.2)\n",
            "Requirement already satisfied: pytz>=2020.1 in /usr/local/lib/python3.11/dist-packages (from pandas<3.0,>=1.0->gradio) (2025.2)\n",
            "Requirement already satisfied: tzdata>=2022.7 in /usr/local/lib/python3.11/dist-packages (from pandas<3.0,>=1.0->gradio) (2025.2)\n",
            "Requirement already satisfied: annotated-types>=0.6.0 in /usr/local/lib/python3.11/dist-packages (from pydantic<2.12,>=2.0->gradio) (0.7.0)\n",
            "Requirement already satisfied: pydantic-core==2.33.1 in /usr/local/lib/python3.11/dist-packages (from pydantic<2.12,>=2.0->gradio) (2.33.1)\n",
            "Requirement already satisfied: typing-inspection>=0.4.0 in /usr/local/lib/python3.11/dist-packages (from pydantic<2.12,>=2.0->gradio) (0.4.0)\n",
            "Requirement already satisfied: click>=8.0.0 in /usr/local/lib/python3.11/dist-packages (from typer<1.0,>=0.12->gradio) (8.1.8)\n",
            "Requirement already satisfied: shellingham>=1.3.0 in /usr/local/lib/python3.11/dist-packages (from typer<1.0,>=0.12->gradio) (1.5.4)\n",
            "Requirement already satisfied: rich>=10.11.0 in /usr/local/lib/python3.11/dist-packages (from typer<1.0,>=0.12->gradio) (13.9.4)\n",
            "Requirement already satisfied: six>=1.5 in /usr/local/lib/python3.11/dist-packages (from python-dateutil>=2.8.2->pandas<3.0,>=1.0->gradio) (1.17.0)\n",
            "Requirement already satisfied: markdown-it-py>=2.2.0 in /usr/local/lib/python3.11/dist-packages (from rich>=10.11.0->typer<1.0,>=0.12->gradio) (3.0.0)\n",
            "Requirement already satisfied: pygments<3.0.0,>=2.13.0 in /usr/local/lib/python3.11/dist-packages (from rich>=10.11.0->typer<1.0,>=0.12->gradio) (2.18.0)\n",
            "Requirement already satisfied: charset-normalizer<4,>=2 in /usr/local/lib/python3.11/dist-packages (from requests->huggingface-hub>=0.28.1->gradio) (3.4.1)\n",
            "Requirement already satisfied: urllib3<3,>=1.21.1 in /usr/local/lib/python3.11/dist-packages (from requests->huggingface-hub>=0.28.1->gradio) (2.3.0)\n",
            "Requirement already satisfied: mdurl~=0.1 in /usr/local/lib/python3.11/dist-packages (from markdown-it-py>=2.2.0->rich>=10.11.0->typer<1.0,>=0.12->gradio) (0.1.2)\n"
          ]
        }
      ]
    },
    {
      "cell_type": "code",
      "source": [
        "import gradio as gr\n",
        "import numpy as np\n",
        "\n",
        "# Function to predict lung cancer risk (only label)\n",
        "def predict_risk(smoking, genetic_risk, air_pollution, chronic_lung_disease, coughing_blood, shortness_breath):\n",
        "    input_data = np.array([[smoking, genetic_risk, air_pollution, chronic_lung_disease, coughing_blood, shortness_breath]])\n",
        "    input_scaled = scaler.transform(input_data)\n",
        "    pred = knn.predict(input_scaled)\n",
        "    risk = target_encoder.inverse_transform(pred)[0]\n",
        "\n",
        "    # Color-coded response\n",
        "    if risk == 'Low':\n",
        "        return \"🟢 Low Risk\"\n",
        "    elif risk == 'Medium':\n",
        "        return \"🟡 Medium Risk\"\n",
        "    else:\n",
        "        return \"🔴 High Risk\"\n",
        "\n",
        "# Gradio Interface\n",
        "gr.Interface(\n",
        "    fn=predict_risk,\n",
        "    inputs=[\n",
        "        gr.Slider(1, 10, label=\"Smoking\"),\n",
        "        gr.Slider(1, 10, label=\"Genetic Risk\"),\n",
        "        gr.Slider(1, 10, label=\"Air Pollution\"),\n",
        "        gr.Slider(1, 10, label=\"Chronic Lung Disease\"),\n",
        "        gr.Slider(1, 10, label=\"Coughing of Blood\"),\n",
        "        gr.Slider(1, 10, label=\"Shortness of Breath\"),\n",
        "    ],\n",
        "    outputs=\"text\",\n",
        "    title=\"🩺 Lung Cancer Risk Prediction\",\n",
        "    description=\"Move sliders (scale 1–10) based on patient health data to predict lung cancer risk level.\"\n",
        ").launch()\n"
      ],
      "metadata": {
        "colab": {
          "base_uri": "https://localhost:8080/",
          "height": 646
        },
        "id": "0kgpzruieuem",
        "outputId": "b1a61517-befe-4e4f-89cb-8e0b905f90bf"
      },
      "execution_count": null,
      "outputs": [
        {
          "output_type": "stream",
          "name": "stdout",
          "text": [
            "Running Gradio in a Colab notebook requires sharing enabled. Automatically setting `share=True` (you can turn this off by setting `share=False` in `launch()` explicitly).\n",
            "\n",
            "Colab notebook detected. To show errors in colab notebook, set debug=True in launch()\n",
            "* Running on public URL: https://ec41f6c46668314ffc.gradio.live\n",
            "\n",
            "This share link expires in 72 hours. For free permanent hosting and GPU upgrades, run `gradio deploy` from the terminal in the working directory to deploy to Hugging Face Spaces (https://huggingface.co/spaces)\n"
          ]
        },
        {
          "output_type": "display_data",
          "data": {
            "text/plain": [
              "<IPython.core.display.HTML object>"
            ],
            "text/html": [
              "<div><iframe src=\"https://ec41f6c46668314ffc.gradio.live\" width=\"100%\" height=\"500\" allow=\"autoplay; camera; microphone; clipboard-read; clipboard-write;\" frameborder=\"0\" allowfullscreen></iframe></div>"
            ]
          },
          "metadata": {}
        },
        {
          "output_type": "execute_result",
          "data": {
            "text/plain": []
          },
          "metadata": {},
          "execution_count": 44
        }
      ]
    },
    {
      "cell_type": "code",
      "source": [
        "import gradio as gr\n",
        "import numpy as np\n",
        "\n",
        "# Define the prediction function\n",
        "def predict_risk(input_data):\n",
        "    \"\"\"\n",
        "    input_data: list of 6 numeric values corresponding to selected_features\n",
        "    Returns: predicted label and probability dict\n",
        "    \"\"\"\n",
        "    input_df = pd.DataFrame([input_data], columns=selected_features)\n",
        "    input_scaled = scaler.transform(input_df)\n",
        "\n",
        "    pred = knn.predict(input_scaled)\n",
        "    proba = knn.predict_proba(input_scaled)[0]\n",
        "\n",
        "    risk = target_encoder.inverse_transform(pred)[0]\n",
        "\n",
        "    proba_dict = {\n",
        "        target_encoder.inverse_transform([i])[0]: round(prob * 100, 1)\n",
        "        for i, prob in enumerate(proba)\n",
        "    }\n",
        "\n",
        "    return risk, proba_dict\n",
        "\n",
        "# Gradio interface\n",
        "def gradio_predict(smoking, genetic_risk, air_pollution, chronic_lung_disease, coughing_blood, breathlessness):\n",
        "    input_vals = [\n",
        "        smoking, genetic_risk, air_pollution,\n",
        "        chronic_lung_disease, coughing_blood, breathlessness\n",
        "    ]\n",
        "    prediction, probabilities = predict_risk(input_vals)\n",
        "\n",
        "    prob_str = \"\\n\".join([f\"{k}: {v}%\" for k, v in probabilities.items()])\n",
        "    return f\"Prediction: {prediction}\", prob_str\n",
        "\n",
        "# Create the GUI interface\n",
        "interface = gr.Interface(\n",
        "    fn=gradio_predict,\n",
        "    inputs=[\n",
        "        gr.Slider(1, 10, label=\"Smoking\"),\n",
        "        gr.Slider(1, 10, label=\"Genetic Risk\"),\n",
        "        gr.Slider(1, 10, label=\"Air Pollution\"),\n",
        "        gr.Slider(1, 10, label=\"Chronic Lung Disease\"),\n",
        "        gr.Slider(1, 10, label=\"Coughing of Blood\"),\n",
        "        gr.Slider(1, 10, label=\"Shortness of Breath\"),\n",
        "    ],\n",
        "    outputs=[\n",
        "        gr.Textbox(label=\"Predicted Risk Level\"),\n",
        "        gr.Textbox(label=\"Probabilities (%)\"),\n",
        "    ],\n",
        "    title=\"Lung Cancer Risk Level Predictor\",\n",
        "    description=\"Enter values between 1 to 10 for each risk factor to predict the level of lung cancer risk.\"\n",
        ")\n",
        "\n",
        "# Launch the app\n",
        "interface.launch()\n"
      ],
      "metadata": {
        "colab": {
          "base_uri": "https://localhost:8080/",
          "height": 646
        },
        "id": "W7qlRa28fUcb",
        "outputId": "9373e131-47d4-4f6f-e8c7-6178cba21375"
      },
      "execution_count": null,
      "outputs": [
        {
          "output_type": "stream",
          "name": "stdout",
          "text": [
            "Running Gradio in a Colab notebook requires sharing enabled. Automatically setting `share=True` (you can turn this off by setting `share=False` in `launch()` explicitly).\n",
            "\n",
            "Colab notebook detected. To show errors in colab notebook, set debug=True in launch()\n",
            "* Running on public URL: https://fa370b66ea31dcdede.gradio.live\n",
            "\n",
            "This share link expires in 72 hours. For free permanent hosting and GPU upgrades, run `gradio deploy` from the terminal in the working directory to deploy to Hugging Face Spaces (https://huggingface.co/spaces)\n"
          ]
        },
        {
          "output_type": "display_data",
          "data": {
            "text/plain": [
              "<IPython.core.display.HTML object>"
            ],
            "text/html": [
              "<div><iframe src=\"https://fa370b66ea31dcdede.gradio.live\" width=\"100%\" height=\"500\" allow=\"autoplay; camera; microphone; clipboard-read; clipboard-write;\" frameborder=\"0\" allowfullscreen></iframe></div>"
            ]
          },
          "metadata": {}
        },
        {
          "output_type": "execute_result",
          "data": {
            "text/plain": []
          },
          "metadata": {},
          "execution_count": 46
        }
      ]
    },
    {
      "cell_type": "code",
      "source": [],
      "metadata": {
        "id": "sy0RAwJef7zM"
      },
      "execution_count": null,
      "outputs": []
    }
  ]
}